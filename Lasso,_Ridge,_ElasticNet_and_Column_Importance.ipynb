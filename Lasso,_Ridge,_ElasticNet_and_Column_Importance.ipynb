{
  "nbformat": 4,
  "nbformat_minor": 0,
  "metadata": {
    "kernelspec": {
      "display_name": "Python 3",
      "language": "python",
      "name": "python3"
    },
    "language_info": {
      "codemirror_mode": {
        "name": "ipython",
        "version": 3
      },
      "file_extension": ".py",
      "mimetype": "text/x-python",
      "name": "python",
      "nbconvert_exporter": "python",
      "pygments_lexer": "ipython3",
      "version": "3.6.3"
    },
    "colab": {
      "name": "Lasso, Ridge, ElasticNet and Column Importance.ipynb",
      "provenance": [],
      "include_colab_link": true
    }
  },
  "cells": [
    {
      "cell_type": "markdown",
      "metadata": {
        "id": "view-in-github",
        "colab_type": "text"
      },
      "source": [
        "<a href=\"https://colab.research.google.com/github/Jay-5051/Data-Analysis/blob/master/Lasso%2C_Ridge%2C_ElasticNet_and_Column_Importance.ipynb\" target=\"_parent\"><img src=\"https://colab.research.google.com/assets/colab-badge.svg\" alt=\"Open In Colab\"/></a>"
      ]
    },
    {
      "cell_type": "code",
      "metadata": {
        "id": "GeNMFENlSSFu"
      },
      "source": [
        "import pandas as pd\n",
        "import numpy as np\n",
        "import matplotlib.pyplot as plt"
      ],
      "execution_count": null,
      "outputs": []
    },
    {
      "cell_type": "code",
      "metadata": {
        "collapsed": true,
        "id": "por8_Y-8SSFz"
      },
      "source": [
        "startups = pd.read_csv(\"50_Startups.csv\")"
      ],
      "execution_count": null,
      "outputs": []
    },
    {
      "cell_type": "code",
      "metadata": {
        "collapsed": true,
        "id": "BxCzFaYFSSF1",
        "outputId": "e5e841a0-d948-4181-e483-1884350ac361"
      },
      "source": [
        "startups.info()"
      ],
      "execution_count": null,
      "outputs": [
        {
          "output_type": "stream",
          "text": [
            "<class 'pandas.core.frame.DataFrame'>\n",
            "RangeIndex: 50 entries, 0 to 49\n",
            "Data columns (total 5 columns):\n",
            "RDSpend           48 non-null float64\n",
            "Administration    50 non-null float64\n",
            "MarketingSpend    47 non-null float64\n",
            "State             50 non-null object\n",
            "Profit            50 non-null float64\n",
            "dtypes: float64(4), object(1)\n",
            "memory usage: 2.1+ KB\n"
          ],
          "name": "stdout"
        }
      ]
    },
    {
      "cell_type": "code",
      "metadata": {
        "collapsed": true,
        "id": "F6ggi-pxSSF3"
      },
      "source": [
        "startups.dropna(inplace=True)"
      ],
      "execution_count": null,
      "outputs": []
    },
    {
      "cell_type": "code",
      "metadata": {
        "id": "h2CTSbNKSSF5",
        "outputId": "8877d01b-055a-40f9-da56-5c7ac1ec2133"
      },
      "source": [
        "X = startups.drop('Profit', axis=1).values\n",
        "print(X.shape)\n",
        "X[0:3,:]\n",
        "y = startups['Profit'].values\n",
        "print(y.shape)"
      ],
      "execution_count": null,
      "outputs": [
        {
          "output_type": "stream",
          "text": [
            "(46, 4)\n",
            "(46,)\n"
          ],
          "name": "stdout"
        }
      ]
    },
    {
      "cell_type": "code",
      "metadata": {
        "collapsed": true,
        "id": "mPT2grFrSSF7",
        "outputId": "502cfd21-a46a-4b6b-cc47-37b11b294dbb"
      },
      "source": [
        "from sklearn.preprocessing import LabelEncoder \n",
        "Le = LabelEncoder()\n",
        "X[:,3] = Le.fit_transform(X[:,3])\n",
        "X[0:3,:]"
      ],
      "execution_count": null,
      "outputs": [
        {
          "output_type": "execute_result",
          "data": {
            "text/plain": [
              "array([[165349.2, 136897.8, 471784.1, 2],\n",
              "       [162597.7, 151377.59, 443898.53, 0],\n",
              "       [153441.51, 101145.55, 407934.54, 1]], dtype=object)"
            ]
          },
          "metadata": {
            "tags": []
          },
          "execution_count": 7
        }
      ]
    },
    {
      "cell_type": "code",
      "metadata": {
        "id": "QUy40_sDSSF9",
        "outputId": "a48fa67f-8bd8-482f-e1f6-96dda70d8be9"
      },
      "source": [
        "Le.inverse_transform([0])\n",
        "\n",
        "from sklearn.preprocessing import OneHotEncoder\n",
        "from sklearn.compose import ColumnTransformer\n",
        "\n",
        "ct = ColumnTransformer(\n",
        "    [('ohe', OneHotEncoder(categories='auto'), [3])],\n",
        "    remainder='passthrough'\n",
        "    )\n",
        "X = ct.fit_transform(X)\n",
        "\n",
        "print(X.shape)\n",
        "\n",
        "print(X[0:3,:])"
      ],
      "execution_count": null,
      "outputs": [
        {
          "output_type": "stream",
          "text": [
            "(46, 6)\n",
            "[[0.0 0.0 1.0 165349.2 136897.8 471784.1]\n",
            " [1.0 0.0 0.0 162597.7 151377.59 443898.53]\n",
            " [0.0 1.0 0.0 153441.51 101145.55 407934.54]]\n"
          ],
          "name": "stdout"
        }
      ]
    },
    {
      "cell_type": "markdown",
      "metadata": {
        "id": "RdM3UEbhSSF-"
      },
      "source": [
        "### Lasso feature importance"
      ]
    },
    {
      "cell_type": "code",
      "metadata": {
        "collapsed": true,
        "id": "eACgkTrjSSF_"
      },
      "source": [
        "from sklearn.model_selection import train_test_split\n",
        "from sklearn.linear_model import LinearRegression"
      ],
      "execution_count": null,
      "outputs": []
    },
    {
      "cell_type": "code",
      "metadata": {
        "collapsed": true,
        "id": "L5kh8TziSSGA"
      },
      "source": [
        "X_train, X_test, y_train, y_test=train_test_split(X,y, \n",
        "                                                  test_size=0.2, \n",
        "                                                  random_state=0)"
      ],
      "execution_count": null,
      "outputs": []
    },
    {
      "cell_type": "code",
      "metadata": {
        "id": "vW8_fnWsSSGC",
        "outputId": "28728d6f-1e07-4dc2-aa53-67011bc4cfda"
      },
      "source": [
        "model = LinearRegression()\n",
        "model.fit(X_train, y_train)\n",
        "model.score(X_test, y_test)"
      ],
      "execution_count": null,
      "outputs": [
        {
          "output_type": "execute_result",
          "data": {
            "text/plain": [
              "0.9443805044678084"
            ]
          },
          "metadata": {
            "tags": []
          },
          "execution_count": 14
        }
      ]
    },
    {
      "cell_type": "code",
      "metadata": {
        "collapsed": true,
        "id": "Vm62PqKPSSGD"
      },
      "source": [
        "from sklearn.linear_model import LassoCV"
      ],
      "execution_count": null,
      "outputs": []
    },
    {
      "cell_type": "code",
      "metadata": {
        "id": "d48jLR3iSSGE",
        "outputId": "dcb84779-b5c5-4012-d84d-dec1315364d7"
      },
      "source": [
        "reg = LassoCV()\n",
        "reg.fit(X_train, y_train)\n",
        "print(reg.alpha_)\n",
        "print(reg.score(X_test, y_test))"
      ],
      "execution_count": null,
      "outputs": [
        {
          "output_type": "stream",
          "text": [
            "3234061.2331898934\n",
            "0.9399946218705578\n"
          ],
          "name": "stdout"
        }
      ]
    },
    {
      "cell_type": "code",
      "metadata": {
        "collapsed": true,
        "id": "pDT7HEVlSSGE",
        "outputId": "3c92188d-13f9-47d6-a0aa-47568e6011d0"
      },
      "source": [
        "imp_coef = pd.Series(reg.coef_, index=['Calofnia', 'Florida', 'New York','RDSpend', \n",
        "                                       'Administration', 'MarketingSpend'])\n",
        "#imp_coef = imp_coef.sort_values()\n",
        "imp_coef.plot(kind='barh')\n",
        "plt.title(\"Feature importance using Lasso Model\")\n",
        "plt.show()"
      ],
      "execution_count": null,
      "outputs": [
        {
          "output_type": "display_data",
          "data": {
            "image/png": "[encoded data removed]",
            "text/plain": [
              "<Figure size 432x288 with 1 Axes>"
            ]
          },
          "metadata": {
            "tags": [],
            "needs_background": "light"
          }
        }
      ]
    },
    {
      "cell_type": "code",
      "metadata": {
        "collapsed": true,
        "id": "qGmknmeGSSGG"
      },
      "source": [
        "from sklearn.linear_model import Lasso, Ridge, ElasticNet"
      ],
      "execution_count": null,
      "outputs": []
    },
    {
      "cell_type": "code",
      "metadata": {
        "collapsed": true,
        "id": "Lol_Cmh2SSGG",
        "outputId": "102aec38-7151-4320-ad69-1275470c7c63"
      },
      "source": [
        "model = Lasso(alpha=500)\n",
        "model.fit(X_train, y_train)\n",
        "model.score(X_test, y_test)"
      ],
      "execution_count": null,
      "outputs": [
        {
          "output_type": "execute_result",
          "data": {
            "text/plain": [
              "0.941545790490371"
            ]
          },
          "metadata": {
            "tags": []
          },
          "execution_count": 36
        }
      ]
    },
    {
      "cell_type": "code",
      "metadata": {
        "collapsed": true,
        "id": "PXFQEkJrSSGH",
        "outputId": "b06264ae-12af-481c-ddc2-3c2d5a7b66d3"
      },
      "source": [
        "model.coef_"
      ],
      "execution_count": null,
      "outputs": [
        {
          "output_type": "execute_result",
          "data": {
            "text/plain": [
              "array([ 0.        , -0.        , -0.        ,  0.76816938, -0.0392113 ,\n",
              "        0.02008181])"
            ]
          },
          "metadata": {
            "tags": []
          },
          "execution_count": 37
        }
      ]
    },
    {
      "cell_type": "code",
      "metadata": {
        "id": "H5-9GODsSSGp",
        "outputId": "3a33d9c4-2d72-42e5-cac4-2ee4be0a3cd7"
      },
      "source": [
        "model = Ridge(alpha=500)\n",
        "model.fit(X_train, y_train)\n",
        "model.score(X_test, y_test)"
      ],
      "execution_count": null,
      "outputs": [
        {
          "output_type": "execute_result",
          "data": {
            "text/plain": [
              "0.9416239062414125"
            ]
          },
          "metadata": {
            "tags": []
          },
          "execution_count": 38
        }
      ]
    },
    {
      "cell_type": "code",
      "metadata": {
        "id": "ooy6sTUuSSGr",
        "outputId": "9e44080b-99a9-4fc5-d2f5-6bdfb9b8cdf9"
      },
      "source": [
        "model = ElasticNet(alpha=500,l1_ratio=0.5)\n",
        "model.fit(X_train, y_train)\n",
        "model.score(X_test, y_test)"
      ],
      "execution_count": null,
      "outputs": [
        {
          "output_type": "execute_result",
          "data": {
            "text/plain": [
              "0.9415458332557453"
            ]
          },
          "metadata": {
            "tags": []
          },
          "execution_count": 39
        }
      ]
    },
    {
      "cell_type": "code",
      "metadata": {
        "collapsed": true,
        "id": "BhwqGdVUSSGs"
      },
      "source": [
        ""
      ],
      "execution_count": null,
      "outputs": []
    }
  ]
}